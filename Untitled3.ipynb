{
 "cells": [
  {
   "cell_type": "markdown",
   "id": "b6222938",
   "metadata": {},
   "source": [
    "# Author : Brijesh Yadav\n"
   ]
  },
  {
   "cell_type": "markdown",
   "id": "cdd55a4c",
   "metadata": {},
   "source": [
    "# Gmail: bkumaryadav096@gmail.com"
   ]
  },
  {
   "cell_type": "markdown",
   "id": "859e3913",
   "metadata": {},
   "source": [
    "# Date: 6 Oct 2021"
   ]
  },
  {
   "cell_type": "markdown",
   "id": "0df80f42",
   "metadata": {},
   "source": [
    "# !/usr/bin/env python"
   ]
  },
  {
   "cell_type": "code",
   "execution_count": 1,
   "id": "fbcd942e",
   "metadata": {},
   "outputs": [],
   "source": [
    "import os\n",
    "import subprocess\n",
    "import re\n",
    "import shutil"
   ]
  },
  {
   "cell_type": "markdown",
   "id": "18650def",
   "metadata": {},
   "source": [
    "# Physical and Logical CPU , Memory (RAM) & Network  "
   ]
  },
  {
   "cell_type": "code",
   "execution_count": 2,
   "id": "f19d9b2a",
   "metadata": {},
   "outputs": [],
   "source": [
    "def get_statistics():\n",
    "    statistics = {}\n",
    "    matcher = re.compile('\\d+')\n",
    "    \n",
    "    # CPU Usages\n",
    "\n",
    "    top_command = subprocess.run(['top', '-l 1', '-n 0'], stdout=subprocess.PIPE).stdout.decode('utf-8').split('\\n')\n",
    "    physical_and_logical_cpu_count = os.cpu_count()\n",
    "    statistics['physical_and_logical_cpu_count'] = physical_and_logical_cpu_count\n",
    "    cpu_load = [x / os.cpu_count() * 100 for x in os.getloadavg()][-1]\n",
    "    statistics['cpu_load'] = round(cpu_load)\n",
    "    \n",
    "    #Memory usages\n",
    "    # Used memory = wired_memory + inactive + active\n",
    "    total_ram = subprocess.run(['sysctl', 'hw.memsize'], stdout=subprocess.PIPE).stdout.decode('utf-8')\n",
    "    vm = subprocess.Popen(['vm_stat'], stdout=subprocess.PIPE).communicate()[0].decode('utf-8')\n",
    "    vmLines = vm.split('\\n')\n",
    "\n",
    "    wired_memory = (int(matcher.search(vmLines[6]).group()) * 4096) / 1024 ** 3\n",
    "    free_memory = (int(matcher.search(vmLines[1]).group()) * 4096) / 1024 ** 3\n",
    "    active_memory = (int(matcher.search(vmLines[2]).group()) * 4096) / 1024 ** 3\n",
    "    inactive_memory = (int(matcher.search(vmLines[3]).group()) * 4096) / 1024 ** 3\n",
    "\n",
    "    statistics['ram'] = dict({\n",
    "            'total_ram': int(matcher.search(total_ram).group()) / 1024 ** 3,\n",
    "            'used_ram': round(wired_memory + active_memory + inactive_memory, 2),\n",
    "    })\n",
    "    \n",
    "    \n",
    "    ## Disk usage - total disk size, used disk space, and free disk\n",
    "    \n",
    "    \n",
    "    total, used, free = shutil.disk_usage(\"/\")\n",
    "    \n",
    "    read_written = top_command[9].split(':')[1].split(',')\n",
    "    read = read_written[0].split(' ')[1]\n",
    "    written = read_written[1].split(' ')[1]\n",
    "    statistics['disk'] = dict(\n",
    "            {\n",
    "                'total_disk_space': round(total / 1024 ** 3, 1),\n",
    "                'used_disk_space': round(used / 1024 ** 3, 1),\n",
    "                'free_disk_space': round(free / 1024 ** 3, 1),\n",
    "                'read_write': {\n",
    "                    'read': read,\n",
    "                    'written': written\n",
    "                }\n",
    "            }\n",
    "        )\n",
    "    \n",
    "       # Network latency \n",
    "    ping_result = subprocess.run(['ping', '-i 5', '-c 5', 'google.com'], stdout=subprocess.PIPE).stdout.decode(\n",
    "        'utf-8').split('\\n')\n",
    "\n",
    "    min, avg, max = ping_result[-2].split('=')[-1].split('/')[:3]\n",
    "    statistics['network_latency'] = dict(\n",
    "            {\n",
    "                'min': min.strip(),\n",
    "                'avg': avg.strip(),\n",
    "                'max': max.strip(),\n",
    "            }\n",
    "        )\n",
    "    return statistics\n",
    "    statistics = get_statistics()\n"
   ]
  },
  {
   "cell_type": "markdown",
   "id": "e908b340",
   "metadata": {},
   "source": [
    "# Thank You"
   ]
  }
 ],
 "metadata": {
  "kernelspec": {
   "display_name": "Python 3 (ipykernel)",
   "language": "python",
   "name": "python3"
  },
  "language_info": {
   "codemirror_mode": {
    "name": "ipython",
    "version": 3
   },
   "file_extension": ".py",
   "mimetype": "text/x-python",
   "name": "python",
   "nbconvert_exporter": "python",
   "pygments_lexer": "ipython3",
   "version": "3.9.5"
  }
 },
 "nbformat": 4,
 "nbformat_minor": 5
}
