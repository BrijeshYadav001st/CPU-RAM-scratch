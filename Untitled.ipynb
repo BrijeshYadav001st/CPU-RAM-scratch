{
 "cells": [
  {
   "cell_type": "markdown",
   "id": "c15a55dc",
   "metadata": {},
   "source": [
    "# __Author__ = \"Brijesh Yadav\"\n",
    "__email__ = \"bkumaryadav096@gmail.com\" \n",
    "  __Date__ = \"26 - Oct - 2021\""
   ]
  },
  {
   "cell_type": "code",
   "execution_count": null,
   "id": "59f6b3c1",
   "metadata": {},
   "outputs": [],
   "source": [
    "import psutil , datetime, time , openpyxl"
   ]
  },
  {
   "cell_type": "markdown",
   "id": "9f67be9a",
   "metadata": {},
   "source": [
    "# Enter Process ID: 5044"
   ]
  },
  {
   "cell_type": "code",
   "execution_count": null,
   "id": "39075141",
   "metadata": {},
   "outputs": [],
   "source": [
    "pid = int (input(\"Enter process ID:\"))"
   ]
  },
  {
   "cell_type": "code",
   "execution_count": null,
   "id": "be47153a",
   "metadata": {},
   "outputs": [],
   "source": [
    "def warning():\n",
    "    cpuusage = psutil.cpu_percent(interval=1)\n",
    "\n",
    "    if cpuusage>50:\n",
    "        print(\"Cpu usage is above 50%\",cpuusage)\n",
    "\n",
    "    memoryview = psutil.virtual_memory().percent\n",
    "\n",
    "    if memusage >50:\n",
    "\n",
    "        print(\"Memory utilization is above 50%\", memusage)\n",
    "\n",
    "\n"
   ]
  },
  {
   "cell_type": "code",
   "execution_count": null,
   "id": "12710b69",
   "metadata": {},
   "outputs": [],
   "source": [
    "def monitor() :\n",
    "\n",
    "    time = datetime.datetime.now().strftime(\"%y%m%d - %H:%M:%S\")\n",
    "\n",
    "    p = psutil.process(pid)\n",
    "    cpu = p.cpu_percent (interval =1)/ psutil.cpu_count()\n",
    "\n",
    "    memory_mb = p.memory_full_info().rss/(1024*1024)\n",
    "\n",
    "    memory = p.memory_percent()\n",
    "\n",
    "    path = r\".\\Monitor_Result.xlsx\"\n",
    "\n",
    "    file = openpyxl.load_workbook(path)\n",
    "    sheet = file.active\n",
    "\n",
    "    sheet.cell(column=1, row=sheet.max_row + 1 , value=time)\n",
    "    sheet.cell(column=2, row=sheet.max_row , value=pid)\n",
    "    sheet.cell(column=3, row=sheet.max_row, value=cpu)\n",
    "    sheet.cell(column=4, row=sheet.max_row , value=memory_mb)\n",
    "    sheet.cell(column=5, row=sheet.max_row , value=memory)\n",
    "\n",
    "    file.save(path)"
   ]
  },
  {
   "cell_type": "code",
   "execution_count": null,
   "id": "902bc2eb",
   "metadata": {},
   "outputs": [],
   "source": [
    "import schedule"
   ]
  },
  {
   "cell_type": "code",
   "execution_count": null,
   "id": "8885c611",
   "metadata": {},
   "outputs": [],
   "source": [
    "schedule.every(1).second.do(warning)\n",
    "schedule.every(5).second.do (monitor)\n",
    "\n",
    "while True:\n",
    "    schedule.run_pending()\n",
    "    time.sleep(1)"
   ]
  },
  {
   "cell_type": "code",
   "execution_count": null,
   "id": "b2c8feb5",
   "metadata": {},
   "outputs": [],
   "source": []
  }
 ],
 "metadata": {
  "kernelspec": {
   "display_name": "Python 3 (ipykernel)",
   "language": "python",
   "name": "python3"
  },
  "language_info": {
   "codemirror_mode": {
    "name": "ipython",
    "version": 3
   },
   "file_extension": ".py",
   "mimetype": "text/x-python",
   "name": "python",
   "nbconvert_exporter": "python",
   "pygments_lexer": "ipython3",
   "version": "3.9.5"
  }
 },
 "nbformat": 4,
 "nbformat_minor": 5
}
