{
 "cells": [
  {
   "cell_type": "markdown",
   "id": "85611cf3",
   "metadata": {},
   "source": [
    "# Author : Brijesh Yadav\n",
    "  "
   ]
  },
  {
   "cell_type": "markdown",
   "id": "f521e0ee",
   "metadata": {},
   "source": [
    "# Gmail: bkumaryadav096@gmail.com"
   ]
  },
  {
   "cell_type": "markdown",
   "id": "98fb69b2",
   "metadata": {},
   "source": [
    "# Date: 06 Oct 2021"
   ]
  },
  {
   "cell_type": "markdown",
   "id": "c739ab48",
   "metadata": {},
   "source": [
    "# !/usr/bin/env python"
   ]
  },
  {
   "cell_type": "code",
   "execution_count": 1,
   "id": "d743ad16",
   "metadata": {},
   "outputs": [],
   "source": [
    "import os\n",
    "import psutil"
   ]
  },
  {
   "cell_type": "markdown",
   "id": "6b2aa124",
   "metadata": {},
   "source": [
    "# Getting loadover15 minutes"
   ]
  },
  {
   "cell_type": "code",
   "execution_count": 2,
   "id": "4549e0de",
   "metadata": {},
   "outputs": [
    {
     "name": "stdout",
     "output_type": "stream",
     "text": [
      "The CPU usage is :  0.0\n"
     ]
    }
   ],
   "source": [
    "\n",
    "load1, load5, load15 = psutil.getloadavg()\n",
    "  \n",
    "cpu_usage = (load15/os.cpu_count()) * 100\n",
    "  \n",
    "print(\"The CPU usage is : \", cpu_usage)"
   ]
  },
  {
   "cell_type": "markdown",
   "id": "1039992c",
   "metadata": {},
   "source": [
    "# gives a single float value"
   ]
  },
  {
   "cell_type": "code",
   "execution_count": 3,
   "id": "896aa440",
   "metadata": {},
   "outputs": [
    {
     "data": {
      "text/plain": [
       "48.5"
      ]
     },
     "execution_count": 3,
     "metadata": {},
     "output_type": "execute_result"
    }
   ],
   "source": [
    "psutil.cpu_percent()"
   ]
  },
  {
   "cell_type": "markdown",
   "id": "ae7902ff",
   "metadata": {},
   "source": [
    "# gives an object with many fields"
   ]
  },
  {
   "cell_type": "code",
   "execution_count": 4,
   "id": "7ef5bad6",
   "metadata": {},
   "outputs": [
    {
     "data": {
      "text/plain": [
       "svmem(total=8444702720, available=1836847104, percent=78.2, used=6607855616, free=1836847104)"
      ]
     },
     "execution_count": 4,
     "metadata": {},
     "output_type": "execute_result"
    }
   ],
   "source": [
    "psutil.virtual_memory()"
   ]
  },
  {
   "cell_type": "markdown",
   "id": "bef2bb56",
   "metadata": {},
   "source": [
    "# you can convert that object to a dictionary "
   ]
  },
  {
   "cell_type": "code",
   "execution_count": 5,
   "id": "ae18aefa",
   "metadata": {},
   "outputs": [
    {
     "data": {
      "text/plain": [
       "{'total': 8444702720,\n",
       " 'available': 1836859392,\n",
       " 'percent': 78.2,\n",
       " 'used': 6607843328,\n",
       " 'free': 1836859392}"
      ]
     },
     "execution_count": 5,
     "metadata": {},
     "output_type": "execute_result"
    }
   ],
   "source": [
    "dict(psutil.virtual_memory()._asdict())"
   ]
  },
  {
   "cell_type": "markdown",
   "id": "c6e2bf19",
   "metadata": {},
   "source": [
    "# you can have the percentage of used RAM"
   ]
  },
  {
   "cell_type": "code",
   "execution_count": 6,
   "id": "cceb098d",
   "metadata": {},
   "outputs": [
    {
     "data": {
      "text/plain": [
       "78.2"
      ]
     },
     "execution_count": 6,
     "metadata": {},
     "output_type": "execute_result"
    }
   ],
   "source": [
    "psutil.virtual_memory().percent"
   ]
  },
  {
   "cell_type": "markdown",
   "id": "e086a647",
   "metadata": {},
   "source": [
    "# you can calculate percentage of available memory"
   ]
  },
  {
   "cell_type": "code",
   "execution_count": 7,
   "id": "60c85a88",
   "metadata": {},
   "outputs": [
    {
     "data": {
      "text/plain": [
       "21.75307210814403"
      ]
     },
     "execution_count": 7,
     "metadata": {},
     "output_type": "execute_result"
    }
   ],
   "source": [
    "psutil.virtual_memory().available * 100 / psutil.virtual_memory().total"
   ]
  },
  {
   "cell_type": "markdown",
   "id": "d8d51819",
   "metadata": {},
   "source": [
    "# Getting % usage of virtual_memory "
   ]
  },
  {
   "cell_type": "code",
   "execution_count": 8,
   "id": "32b7a150",
   "metadata": {},
   "outputs": [
    {
     "name": "stdout",
     "output_type": "stream",
     "text": [
      "RAM memory % used: 78.2\n"
     ]
    }
   ],
   "source": [
    "print('RAM memory % used:', psutil.virtual_memory()[2])"
   ]
  },
  {
   "cell_type": "markdown",
   "id": "733b5660",
   "metadata": {},
   "source": [
    "# Thank You"
   ]
  }
 ],
 "metadata": {
  "kernelspec": {
   "display_name": "Python 3 (ipykernel)",
   "language": "python",
   "name": "python3"
  },
  "language_info": {
   "codemirror_mode": {
    "name": "ipython",
    "version": 3
   },
   "file_extension": ".py",
   "mimetype": "text/x-python",
   "name": "python",
   "nbconvert_exporter": "python",
   "pygments_lexer": "ipython3",
   "version": "3.9.5"
  }
 },
 "nbformat": 4,
 "nbformat_minor": 5
}
